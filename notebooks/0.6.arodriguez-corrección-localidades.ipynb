{
 "cells": [
  {
   "cell_type": "code",
   "execution_count": 23,
   "id": "a7b6fed7-0377-40d6-aff2-768214eb321d",
   "metadata": {},
   "outputs": [],
   "source": [
    "import pandas as pd\n",
    "import numpy as np\n",
    "import os  \n",
    "from pathlib import Path\n",
    "import argparse\n",
    "\n",
    "\n",
    "def get_data(filename):\n",
    "    \"\"\"Carga datos desde la carpeta processed\n",
    "    \n",
    "    Arg:\n",
    "        filename: nombre del archivo guardado en la carpeta raw\n",
    "        \n",
    "    Return:\n",
    "        datos --> pd.dataframe \"\"\"\n",
    "    print('get_data')\n",
    "    bucket = \"gs://arodriguez_llamadas_123/\"\n",
    "    file_path = os.path.join(bucket , 'data', 'processed', filename)\n",
    "    file_path\n",
    "    \n",
    "    datos = pd.read_csv(file_path, encoding='latin-1')\n",
    "    print('La tabla contiene: ', datos.shape[0], 'filas', datos.shape[1], 'columnas')\n",
    "    print(datos)\n",
    "    return datos\n",
    "\n",
    "def save_data(datos, filename):\n",
    "    \"\"\"Guarda los datos limpios en un nuevo archivo en la carpeta processed\n",
    "    \n",
    "    Arg:\n",
    "        datos --> pd.dataframe\n",
    "        filename: nombre del archivo\n",
    "        \n",
    "    Return:\n",
    "        datos --> csv\"\"\"\n",
    "    bucket = \"gs://arodriguez_llamadas_123/\"\n",
    "    out_name = 'total_llamadas_123.csv'\n",
    "    out_path = os.path.join(bucket, 'data', 'processed', out_name)\n",
    "    datos.to_csv(out_path, index = False)\n",
    "    print('DATOS GUARDADOS')"
   ]
  },
  {
   "cell_type": "code",
   "execution_count": 20,
   "id": "2ac3a302-0446-4e86-9261-f389ccc1146f",
   "metadata": {},
   "outputs": [
    {
     "name": "stdout",
     "output_type": "stream",
     "text": [
      "get_data\n",
      "La tabla contiene:  238444 filas 11 columnas\n",
      "       NUMERO_INCIDENTE FECHA_INICIO_DESPLAZAMIENTO_MOVIL  CODIGO_LOCALIDAD  \\\n",
      "0       CRU-00329075-22               2022-08-01 05:51:39               9.0   \n",
      "1       CRU-00329149-22               2022-08-01 07:33:01               4.0   \n",
      "2       CRU-00329149-22               2022-08-01 07:32:34               4.0   \n",
      "3       CRU-00329188-22               2022-08-01 07:22:46              12.0   \n",
      "4       CRU-00329228-22               2022-08-01 08:07:55              11.0   \n",
      "...                 ...                               ...               ...   \n",
      "238439  CRU-00065416-21               2021-01-02 00:38:00              11.0   \n",
      "238440  CRU-00065414-21               2021-01-02 01:03:00               4.0   \n",
      "238441  CRU-00065405-21               2021-01-02 01:05:00              13.0   \n",
      "238442  CRU-00065386-21               2021-01-02 01:09:00               1.0   \n",
      "238443  CRU-00065120-21               2021-01-02 03:08:00              15.0   \n",
      "\n",
      "                    LOCALIDAD  EDAD       UNIDAD     GENERO      RED  \\\n",
      "0             FontibÃÂÃÂ¢n   NaN     SIN_DATO   SIN_DATO  Privada   \n",
      "1        San CristÃÂÃÂ¢bal   NaN     SIN_DATO   SIN_DATO  Privada   \n",
      "2        San CristÃÂÃÂ¢bal   NaN     SIN_DATO   SIN_DATO  Privada   \n",
      "3              Barrios Unidos   NaN     SIN_DATO   SIN_DATO  Privada   \n",
      "4                        Suba   NaN     SIN_DATO   SIN_DATO  Privada   \n",
      "...                       ...   ...          ...        ...      ...   \n",
      "238439                   Suba  41.0  AÃÂÃÂ¤os  MASCULINO    Norte   \n",
      "238440   San CristÃÂÃÂ¢bal  27.0  AÃÂÃÂ¤os   FEMENINO      Sur   \n",
      "238441            Teusaquillo  38.0  AÃÂÃÂ¤os   FEMENINO    Norte   \n",
      "238442         UsaquÃÂÃÂn  60.0  AÃÂÃÂ¤os  MASCULINO  Privada   \n",
      "238443  Antonio NariÃÂÃÂ¤o  38.0  AÃÂÃÂ¤os   FEMENINO      Sur   \n",
      "\n",
      "                            TIPO_INCIDENTE PRIORIDAD RECEPCION  \n",
      "0                                   Herido      ALTA       NaN  \n",
      "1                                   Herido      ALTA       NaN  \n",
      "2                                   Herido      ALTA       NaN  \n",
      "3                                   Herido      ALTA       NaN  \n",
      "4                                   Herido      ALTA       NaN  \n",
      "...                                    ...       ...       ...  \n",
      "238439                 Amenaza de Suicidio     MEDIA       NaN  \n",
      "238440                    Trastorno Mental     MEDIA       NaN  \n",
      "238441  SÃÂÃÂ¡ntomas Gastrointestinales      ALTA       NaN  \n",
      "238442                 Amenaza de Suicidio     MEDIA       NaN  \n",
      "238443                             Enfermo     MEDIA       NaN  \n",
      "\n",
      "[238444 rows x 11 columns]\n"
     ]
    },
    {
     "name": "stderr",
     "output_type": "stream",
     "text": [
      "/opt/conda/lib/python3.7/site-packages/ipykernel_launcher.py:2: DtypeWarning: Columns (10) have mixed types.Specify dtype option on import or set low_memory=False.\n",
      "  \n"
     ]
    }
   ],
   "source": [
    "    filename = 'total_llamadas_123.csv'\n",
    "    datos   = get_data(filename)"
   ]
  },
  {
   "cell_type": "code",
   "execution_count": 21,
   "id": "ba1122d8-09e7-4f69-89f3-0245b56d2681",
   "metadata": {},
   "outputs": [],
   "source": [
    "datos.loc[datos['CODIGO_LOCALIDAD'] == 1.0, 'LOCALIDAD'] = 'Usaquen'\n",
    "datos.loc[datos['CODIGO_LOCALIDAD'] == 2.0, 'LOCALIDAD'] = 'Chapinero'\n",
    "datos.loc[datos['CODIGO_LOCALIDAD'] == 3.0, 'LOCALIDAD'] = 'Santa Fe'\n",
    "datos.loc[datos['CODIGO_LOCALIDAD'] == 4.0, 'LOCALIDAD'] = 'San Cristobal'\n",
    "datos.loc[datos['CODIGO_LOCALIDAD'] == 5.0, 'LOCALIDAD'] = 'Usme'\n",
    "datos.loc[datos['CODIGO_LOCALIDAD'] == 6.0, 'LOCALIDAD'] = 'Tunjuelito'\n",
    "datos.loc[datos['CODIGO_LOCALIDAD'] == 7.0, 'LOCALIDAD'] = 'Bosa'\n",
    "datos.loc[datos['CODIGO_LOCALIDAD'] == 8.0, 'LOCALIDAD'] = 'Keneddy'\n",
    "datos.loc[datos['CODIGO_LOCALIDAD'] == 9.0, 'LOCALIDAD'] = 'Fontibon'\n",
    "datos.loc[datos['CODIGO_LOCALIDAD'] == 10.0, 'LOCALIDAD'] = 'Engativa'\n",
    "datos.loc[datos['CODIGO_LOCALIDAD'] == 11.0, 'LOCALIDAD'] = 'Suba'\n",
    "datos.loc[datos['CODIGO_LOCALIDAD'] == 12.0, 'LOCALIDAD'] = 'Barrios Unidos'\n",
    "datos.loc[datos['CODIGO_LOCALIDAD'] == 13.0, 'LOCALIDAD'] = 'Teusaquillo'\n",
    "datos.loc[datos['CODIGO_LOCALIDAD'] == 14.0, 'LOCALIDAD'] = 'Los Martires'\n",
    "datos.loc[datos['CODIGO_LOCALIDAD'] == 15.0, 'LOCALIDAD'] = 'Antonio Nariño'\n",
    "datos.loc[datos['CODIGO_LOCALIDAD'] == 16.0, 'LOCALIDAD'] = 'Puente Aranda'\n",
    "datos.loc[datos['CODIGO_LOCALIDAD'] == 17.0, 'LOCALIDAD'] = 'Candelaria'\n",
    "datos.loc[datos['CODIGO_LOCALIDAD'] == 18.0, 'LOCALIDAD'] = 'Rafael Uribe Uribe'\n",
    "datos.loc[datos['CODIGO_LOCALIDAD'] == 19.0, 'LOCALIDAD'] = 'Ciudad Bolivar'\n",
    "datos.loc[datos['CODIGO_LOCALIDAD'] == 20.0, 'LOCALIDAD'] = 'Sumapaz'"
   ]
  },
  {
   "cell_type": "code",
   "execution_count": 22,
   "id": "365838cd-39b7-44fd-98ee-968331072f61",
   "metadata": {},
   "outputs": [
    {
     "name": "stdout",
     "output_type": "stream",
     "text": [
      "       NUMERO_INCIDENTE FECHA_INICIO_DESPLAZAMIENTO_MOVIL  CODIGO_LOCALIDAD  \\\n",
      "0       CRU-00329075-22               2022-08-01 05:51:39               9.0   \n",
      "1       CRU-00329149-22               2022-08-01 07:33:01               4.0   \n",
      "2       CRU-00329149-22               2022-08-01 07:32:34               4.0   \n",
      "3       CRU-00329188-22               2022-08-01 07:22:46              12.0   \n",
      "4       CRU-00329228-22               2022-08-01 08:07:55              11.0   \n",
      "...                 ...                               ...               ...   \n",
      "238439  CRU-00065416-21               2021-01-02 00:38:00              11.0   \n",
      "238440  CRU-00065414-21               2021-01-02 01:03:00               4.0   \n",
      "238441  CRU-00065405-21               2021-01-02 01:05:00              13.0   \n",
      "238442  CRU-00065386-21               2021-01-02 01:09:00               1.0   \n",
      "238443  CRU-00065120-21               2021-01-02 03:08:00              15.0   \n",
      "\n",
      "             LOCALIDAD  EDAD       UNIDAD     GENERO      RED  \\\n",
      "0             Fontibon   NaN     SIN_DATO   SIN_DATO  Privada   \n",
      "1        San Cristobal   NaN     SIN_DATO   SIN_DATO  Privada   \n",
      "2        San Cristobal   NaN     SIN_DATO   SIN_DATO  Privada   \n",
      "3       Barrios Unidos   NaN     SIN_DATO   SIN_DATO  Privada   \n",
      "4                 Suba   NaN     SIN_DATO   SIN_DATO  Privada   \n",
      "...                ...   ...          ...        ...      ...   \n",
      "238439            Suba  41.0  AÃÂÃÂ¤os  MASCULINO    Norte   \n",
      "238440   San Cristobal  27.0  AÃÂÃÂ¤os   FEMENINO      Sur   \n",
      "238441     Teusaquillo  38.0  AÃÂÃÂ¤os   FEMENINO    Norte   \n",
      "238442         Usaquen  60.0  AÃÂÃÂ¤os  MASCULINO  Privada   \n",
      "238443  Antonio Nariño  38.0  AÃÂÃÂ¤os   FEMENINO      Sur   \n",
      "\n",
      "                            TIPO_INCIDENTE PRIORIDAD RECEPCION  \n",
      "0                                   Herido      ALTA       NaN  \n",
      "1                                   Herido      ALTA       NaN  \n",
      "2                                   Herido      ALTA       NaN  \n",
      "3                                   Herido      ALTA       NaN  \n",
      "4                                   Herido      ALTA       NaN  \n",
      "...                                    ...       ...       ...  \n",
      "238439                 Amenaza de Suicidio     MEDIA       NaN  \n",
      "238440                    Trastorno Mental     MEDIA       NaN  \n",
      "238441  SÃÂÃÂ¡ntomas Gastrointestinales      ALTA       NaN  \n",
      "238442                 Amenaza de Suicidio     MEDIA       NaN  \n",
      "238443                             Enfermo     MEDIA       NaN  \n",
      "\n",
      "[238444 rows x 11 columns]\n"
     ]
    }
   ],
   "source": [
    "print(datos)"
   ]
  },
  {
   "cell_type": "code",
   "execution_count": 24,
   "id": "daf96f18-c2ed-40ba-b9b2-4e8fc821599a",
   "metadata": {},
   "outputs": [
    {
     "name": "stdout",
     "output_type": "stream",
     "text": [
      "DATOS GUARDADOS\n"
     ]
    }
   ],
   "source": [
    " save_data(datos, filename)"
   ]
  },
  {
   "cell_type": "code",
   "execution_count": null,
   "id": "014f5766-791d-4f0c-9e86-acf171ad8c65",
   "metadata": {},
   "outputs": [],
   "source": []
  }
 ],
 "metadata": {
  "environment": {
   "kernel": "python3",
   "name": "common-cpu.m97",
   "type": "gcloud",
   "uri": "gcr.io/deeplearning-platform-release/base-cpu:m97"
  },
  "kernelspec": {
   "display_name": "Python 3",
   "language": "python",
   "name": "python3"
  },
  "language_info": {
   "codemirror_mode": {
    "name": "ipython",
    "version": 3
   },
   "file_extension": ".py",
   "mimetype": "text/x-python",
   "name": "python",
   "nbconvert_exporter": "python",
   "pygments_lexer": "ipython3",
   "version": "3.7.12"
  }
 },
 "nbformat": 4,
 "nbformat_minor": 5
}
