{
 "cells": [
  {
   "cell_type": "code",
   "execution_count": 93,
   "id": "f57f02e1-32cc-4500-a134-b271b30b7644",
   "metadata": {
    "tags": []
   },
   "outputs": [],
   "source": [
    "import pandas as pd\n",
    "import numpy as np\n",
    "import os  \n",
    "from pathlib import Path\n",
    "import argparse\n",
    "\n",
    "\n",
    "def get_data(filename):\n",
    "    \"\"\"Carga datos desde la carpeta raw\n",
    "    \n",
    "    Arg:\n",
    "        filename: nombre del archivo guardado en la carpeta raw\n",
    "        \n",
    "    Return:\n",
    "        datos --> pd.dataframe \"\"\"\n",
    "    \n",
    "    bucket = \"gs://arodriguez_llamadas_123/\"\n",
    "    file_path = os.path.join(bucket , 'data', 'raw', filename)\n",
    "    file_path\n",
    "    \n",
    "    datos = pd.read_csv(file_path, sep=';', encoding='latin-1')\n",
    "    print('get_data')\n",
    "    print('La tabla contiene: ', datos.shape[0], 'filas', datos.shape[1], 'columnas')\n",
    "    return datos\n",
    "\n",
    "def agregar_tabla(datos, filename_2):\n",
    "    \n",
    "    print('agregar_tabla')\n",
    "    bucket = \"gs://arodriguez_llamadas_123/\"\n",
    "    file_path = os.path.join(bucket , 'data', 'raw', filename_2)\n",
    "    file_path\n",
    "    nueva_tabla = pd.read_csv(file_path, sep=';', encoding='latin-1')\n",
    "    datos = datos.append(nueva_tabla)\n",
    "    return datos\n",
    "\n",
    "def save_data(datos):\n",
    "    \"\"\"Guarda los datos compilados en un nuevo archivo en la carpeta processed\n",
    "    \n",
    "    Arg:\n",
    "        datos --> pd.dataframe\n",
    "        filename: nombre del archivo\n",
    "        \n",
    "    Return:\n",
    "        datos --> csv\"\"\"\n",
    "    \n",
    "    bucket = \"gs://arodriguez_llamadas_123/\"     \n",
    "    out_name = 'total_llamadas_123.csv' \n",
    "    out_path = os.path.join(bucket, 'data', 'processed', out_name)\n",
    "    datos.to_csv(out_path)\n",
    "    print('DATOS GUARDADOS')\n",
    "\n",
    "def get_data_compilada(filename_comp):\n",
    "    \"\"\"Carga datos desde la carpeta processed\n",
    "    \n",
    "    Arg:\n",
    "        filename: nombre del archivo guardado en la carpeta raw\n",
    "        \n",
    "    Return:\n",
    "        datos --> pd.dataframe \"\"\"\n",
    "    \n",
    "    bucket = \"gs://arodriguez_llamadas_123/\"\n",
    "    file_path = os.path.join(bucket , 'data', 'processed', filename_comp)\n",
    "    file_path\n",
    "    \n",
    "    datos_comp = pd.read_csv(file_path, encoding='latin-1')\n",
    "    print('get_data_compilada')\n",
    "    print('La tabla contiene: ', datos_comp.shape[0], 'filas', datos_comp.shape[1], 'columnas')\n",
    "    return datos_comp\n",
    "\n",
    "def remover_duplicados_y_nulos(datos_comp):\n",
    "    \"\"\"Remueve datos duplicados y datos nulos de la columna UNIDAD\n",
    "        \n",
    "    Arg:\n",
    "        datos --> pd.dataframe\n",
    "        \n",
    "    Return:\n",
    "        datos --> pd.dataframe \"\"\"\n",
    "        \n",
    "    print('remover_duplicados_y_nulos')\n",
    "    datos_comp = datos_comp.drop_duplicates()\n",
    "    datos.reset_index(inplace = True, drop = True)\n",
    "    \n",
    "    datos_comp['UNIDAD'] = datos_comp['UNIDAD'].fillna('SIN_DATO')\n",
    "    datos_comp['UNIDAD'].value_counts(dropna = False, normalize = True)\n",
    "    return datos_comp\n",
    "    \n",
    "def convertir_str_a_num(datos_comp):\n",
    "    \"\"\"Convierte los datos tipo str de la columna EDAD a datos numericos tipo float\n",
    "    \n",
    "    Arg:\n",
    "        datos --> pd.dataframe\n",
    "        \n",
    "    Return:\n",
    "        datos --> pd.dataframe \"\"\"\n",
    "        \n",
    "    print('convertir_str_a_num')\n",
    "    datos_comp['EDAD'] = datos_comp['EDAD'].replace({'SIN_DATO' or 'Sin_dato' : np.nan})\n",
    "    datos_comp['EDAD'] = datos_comp['EDAD'].astype('float')\n",
    "    return datos\n",
    "\n",
    "def corregir_fechas(datos_comp):\n",
    "    \"\"\"Corrige el tipo de dato de las fechas del dataframe a tipo pd.datetime\n",
    "    \n",
    "    Arg:\n",
    "        datos --> pd.dataframe\n",
    "        \n",
    "    Return:\n",
    "        datos --> pd.dataframe \"\"\"\n",
    "        \n",
    "    print('corregir_fechas')\n",
    "    datos_comp['FECHA_INICIO_DESPLAZAMIENTO_MOVIL'] = pd.to_datetime(datos_comp['FECHA_INICIO_DESPLAZAMIENTO_MOVIL'], errors='coerce')\n",
    "    datos_comp['RECEPCION'] = pd.to_datetime(datos_comp['RECEPCION'], errors='coerce')\n",
    "    print(datos_comp.dtypes)\n",
    "    return datos_comp\n",
    "\n",
    "def save_limpieza(datos_comp):\n",
    "    \"\"\"Guarda los datos limpios en un nuevo archivo en la carpeta processed\n",
    "    \n",
    "    Arg:\n",
    "        datos --> pd.dataframe\n",
    "        filename: nombre del archivo\n",
    "        \n",
    "    Return:\n",
    "        datos --> csv\"\"\"\n",
    "    \n",
    "    bucket = \"gs://arodriguez_llamadas_123/\"     \n",
    "    out_name = 'limpieza_total_llamadas_123' \n",
    "    out_path = os.path.join(bucket, 'data', 'processed', out_name)\n",
    "    datos.to_csv(out_path)\n",
    "    print('DATOS LIMPIOS Y GUARDADOS')\n"
   ]
  },
  {
   "cell_type": "code",
   "execution_count": 95,
   "id": "22892120-7ecc-43c1-9381-fc5edf7c3053",
   "metadata": {},
   "outputs": [
    {
     "name": "stdout",
     "output_type": "stream",
     "text": [
      "¿Cuantos meses se van a agregar?\n"
     ]
    },
    {
     "name": "stdin",
     "output_type": "stream",
     "text": [
      " 4\n"
     ]
    },
    {
     "name": "stdout",
     "output_type": "stream",
     "text": [
      "get_data\n",
      "La tabla contiene:  13673 filas 11 columnas\n",
      "Introduzca el mes_año:\n"
     ]
    },
    {
     "name": "stdin",
     "output_type": "stream",
     "text": [
      " julio_2022\n"
     ]
    },
    {
     "name": "stdout",
     "output_type": "stream",
     "text": [
      "Agregando:  llamadas123_julio_2022.csv\n",
      "agregar_tabla\n",
      "Introduzca el mes_año:\n"
     ]
    },
    {
     "name": "stdin",
     "output_type": "stream",
     "text": [
      " junio_2022\n"
     ]
    },
    {
     "name": "stdout",
     "output_type": "stream",
     "text": [
      "Agregando:  llamadas123_junio_2022.csv\n",
      "agregar_tabla\n",
      "Introduzca el mes_año:\n"
     ]
    },
    {
     "name": "stdin",
     "output_type": "stream",
     "text": [
      " mayo_2022\n"
     ]
    },
    {
     "name": "stdout",
     "output_type": "stream",
     "text": [
      "Agregando:  llamadas123_mayo_2022.csv\n",
      "agregar_tabla\n",
      "Introduzca el mes_año:\n"
     ]
    },
    {
     "name": "stdin",
     "output_type": "stream",
     "text": [
      " abril_2022\n"
     ]
    },
    {
     "name": "stdout",
     "output_type": "stream",
     "text": [
      "Agregando:  llamadas123_abril_2022.csv\n",
      "agregar_tabla\n",
      "La tabla contiene:  66628 filas 12 columnas\n",
      "DATOS GUARDADOS\n"
     ]
    },
    {
     "name": "stderr",
     "output_type": "stream",
     "text": [
      "/opt/conda/lib/python3.7/site-packages/ipykernel_launcher.py:16: DtypeWarning: Columns (2,5) have mixed types.Specify dtype option on import or set low_memory=False.\n",
      "  \n"
     ]
    },
    {
     "name": "stdout",
     "output_type": "stream",
     "text": [
      "get_data_compilada\n",
      "La tabla contiene:  66628 filas 13 columnas\n",
      "remover_duplicados_y_nulos\n",
      "convertir_str_a_num\n",
      "corregir_fechas\n",
      "NUMERO_INCIDENTE                             object\n",
      "FECHA_INICIO_DESPLAZAMIENTO_MOVIL    datetime64[ns]\n",
      "CODIGO_LOCALIDAD                              int64\n",
      "LOCALIDAD                                    object\n",
      "EDAD                                         object\n",
      "UNIDAD                                       object\n",
      "GENERO                                       object\n",
      "RED                                          object\n",
      "TIPO_INCIDENTE                               object\n",
      "PRIORIDAD                                    object\n",
      "RECEPCION                            datetime64[ns]\n",
      "FECHA_INICIO_DESPLAZAMIENTO-MOVIL            object\n",
      "dtype: object\n",
      "DATOS LIMPIOS Y GUARDADOS\n"
     ]
    }
   ],
   "source": [
    "print ('¿Cuantos meses se van a agregar?')\n",
    "meses = input()\n",
    "meses = int(meses)\n",
    "filename = 'llamadas123_agosto_2022.csv'\n",
    "datos = get_data(filename)    \n",
    "while meses > 0:\n",
    "    meses -= 1\n",
    "    print('Introduzca el mes_año:')\n",
    "    mes = input()\n",
    "    filename_2 = 'llamadas123_' + mes + '.csv'\n",
    "    print('Agregando: ', filename_2)\n",
    "    datos = agregar_tabla(datos, filename_2)\n",
    "print('La tabla contiene: ', datos.shape[0], 'filas', datos.shape[1], 'columnas')\n",
    "save_data(datos)\n",
    "filename_comp = 'total_llamadas_123.csv' \n",
    "datos_comp = get_data_compilada(filename_comp) \n",
    "datos_comp = remover_duplicados_y_nulos(datos_comp)\n",
    "datos_comp = convertir_str_a_num(datos_comp)\n",
    "datos_comp = corregir_fechas(datos_comp)\n",
    "save_limpieza(datos_comp)"
   ]
  },
  {
   "cell_type": "code",
   "execution_count": null,
   "id": "d3dfb49d-b1af-40e4-9b83-9e53acaab70f",
   "metadata": {},
   "outputs": [],
   "source": []
  }
 ],
 "metadata": {
  "environment": {
   "kernel": "python3",
   "name": "common-cpu.m97",
   "type": "gcloud",
   "uri": "gcr.io/deeplearning-platform-release/base-cpu:m97"
  },
  "kernelspec": {
   "display_name": "Python 3",
   "language": "python",
   "name": "python3"
  },
  "language_info": {
   "codemirror_mode": {
    "name": "ipython",
    "version": 3
   },
   "file_extension": ".py",
   "mimetype": "text/x-python",
   "name": "python",
   "nbconvert_exporter": "python",
   "pygments_lexer": "ipython3",
   "version": "3.7.12"
  }
 },
 "nbformat": 4,
 "nbformat_minor": 5
}
