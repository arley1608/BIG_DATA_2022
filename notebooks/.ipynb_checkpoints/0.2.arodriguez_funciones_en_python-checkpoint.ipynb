{
 "cells": [
  {
   "cell_type": "markdown",
   "metadata": {},
   "source": [
    "# Funciones en Python\n",
    "_____________________"
   ]
  },
  {
   "cell_type": "code",
   "execution_count": 5,
   "metadata": {},
   "outputs": [
    {
     "name": "stdout",
     "output_type": "stream",
     "text": [
      "x:  3\n",
      "resultado:  8\n"
     ]
    },
    {
     "data": {
      "text/plain": [
       "8"
      ]
     },
     "execution_count": 5,
     "metadata": {},
     "output_type": "execute_result"
    }
   ],
   "source": [
    "# Función de x    f(x)     f(x=3) = 3 + 5 --> 8\n",
    "\n",
    "def suma_mas_cinco(x):\n",
    "    resultado = x + 5\n",
    "    \n",
    "    print('x: ', x)\n",
    "    print('resultado: ', resultado)\n",
    "    return resultado\n",
    "\n",
    "suma_mas_cinco(x=3)"
   ]
  },
  {
   "cell_type": "markdown",
   "metadata": {},
   "source": [
    "# Pseudo-Código"
   ]
  },
  {
   "cell_type": "code",
   "execution_count": null,
   "metadata": {},
   "outputs": [],
   "source": [
    "# Obtener el valor de la suma de los números de una lista\n",
    "# Obtener el valor minímo y máximo\n",
    "# Obtener media y desviación estandar\n",
    "\n",
    "# calcular_valores (lista_numeros)\n",
    "#   suma             = calcular_suma(lista_numeros)\n",
    "#   media, dev_std   = calcular_valores_centrales(lista_numeros)\n",
    "#   min_val, max_val = calcular_extremos(lista_numeros)\n",
    "#   return suma, media, dev_std, min_val, max_val"
   ]
  },
  {
   "cell_type": "code",
   "execution_count": 20,
   "metadata": {},
   "outputs": [],
   "source": [
    "import numpy as np\n",
    "\n",
    "def calcular_suma(lista_numeros):\n",
    "    resultado_suma = np.sum(lista_numeros)\n",
    "    return resultado_suma\n",
    "\n",
    "def calcular_valores_centrales(lista_numeros):\n",
    "    resultado_media   = np.mean(lista_numeros)\n",
    "    resultado_dev_std = np.std(lista_numeros)\n",
    "    return resultado_media, resultado_dev_std\n",
    "\n",
    "def calcular_extremos(lista_numeros):\n",
    "    resultado_min = np.min(lista_numeros)\n",
    "    resultado_max = np.max(lista_numeros)\n",
    "    return resultado_min, resultado_max\n",
    "\n",
    "def calcular_valores(lista_numeros):\n",
    "    suma             = calcular_suma(lista_numeros)\n",
    "    media, dev_std   = calcular_valores_centrales(lista_numeros)\n",
    "    min_val, max_val = calcular_extremos(lista_numeros)\n",
    "    return suma, media, dev_std, min_val, max_val"
   ]
  },
  {
   "cell_type": "code",
   "execution_count": 21,
   "metadata": {},
   "outputs": [
    {
     "data": {
      "text/plain": [
       "(155, 25.833333333333332, 33.58777886209341, 1, 93)"
      ]
     },
     "execution_count": 21,
     "metadata": {},
     "output_type": "execute_result"
    }
   ],
   "source": [
    "lista_numeros = [1,5, 8, 3, 45, 93]\n",
    "\n",
    "calcular_valores(lista_numeros)"
   ]
  },
  {
   "cell_type": "code",
   "execution_count": null,
   "metadata": {},
   "outputs": [],
   "source": []
  }
 ],
 "metadata": {
  "kernelspec": {
   "display_name": "Python 3.10.5 64-bit",
   "language": "python",
   "name": "python3"
  },
  "language_info": {
   "codemirror_mode": {
    "name": "ipython",
    "version": 3
   },
   "file_extension": ".py",
   "mimetype": "text/x-python",
   "name": "python",
   "nbconvert_exporter": "python",
   "pygments_lexer": "ipython3",
   "version": "3.10.5"
  },
  "orig_nbformat": 4,
  "vscode": {
   "interpreter": {
    "hash": "aee8b7b246df8f9039afb4144a1f6fd8d2ca17a180786b69acc140d282b71a49"
   }
  }
 },
 "nbformat": 4,
 "nbformat_minor": 2
}
