{
 "cells": [
  {
   "cell_type": "code",
   "execution_count": 17,
   "id": "fac44363-a07b-4b4e-80d5-0f14243e079b",
   "metadata": {},
   "outputs": [],
   "source": [
    "import pandas as pd\n",
    "import numpy as np\n",
    "import os  \n",
    "from pathlib import Path\n",
    "import argparse\n",
    "\n",
    "\n",
    "def get_data(filename):\n",
    "    \"\"\"Carga datos desde la carpeta raw\n",
    "    \n",
    "    Arg:\n",
    "        filename: nombre del archivo guardado en la carpeta raw\n",
    "        \n",
    "    Return:\n",
    "        datos --> pd.dataframe \"\"\"\n",
    "    \n",
    "    bucket = \"gs://arodriguez_llamadas_123/\"\n",
    "    file_path = os.path.join(bucket , 'data', 'processed', filename)\n",
    "    file_path\n",
    "    \n",
    "    datos = pd.read_csv(file_path, encoding='latin-1')\n",
    "    print('get_data')\n",
    "    print('La tabla contiene: ', datos.shape[0], 'filas', datos.shape[1], 'columnas')\n",
    "    return datos\n",
    "\n",
    "def agregar_tabla(datos, filename_2):\n",
    "    \n",
    "    print('agregar_tabla')\n",
    "    bucket = \"gs://arodriguez_llamadas_123/\"\n",
    "    file_path = os.path.join(bucket , 'data', 'processed', filename_2)\n",
    "    file_path\n",
    "    nueva_tabla = pd.read_csv(file_path, encoding='latin-1')\n",
    "    datos = datos.append(nueva_tabla)\n",
    "    return datos\n",
    "\n",
    "def save_data(datos):\n",
    "    \"\"\"Guarda los datos compilados en un nuevo archivo en la carpeta processed\n",
    "    \n",
    "    Arg:\n",
    "        datos --> pd.dataframe\n",
    "        filename: nombre del archivo\n",
    "        \n",
    "    Return:\n",
    "        datos --> csv\"\"\"\n",
    "    \n",
    "    bucket = \"gs://arodriguez_llamadas_123/\"     \n",
    "    out_name = 'total_llamadas_123.csv' \n",
    "    out_path = os.path.join(bucket, 'data', 'processed', out_name)\n",
    "    datos.to_csv(out_path, index = False)\n",
    "    print('DATOS GUARDADOS')\n"
   ]
  },
  {
   "cell_type": "code",
   "execution_count": 18,
   "id": "16728b8b-944c-4219-9277-405675d0307f",
   "metadata": {},
   "outputs": [
    {
     "name": "stdout",
     "output_type": "stream",
     "text": [
      "¿Cuantos meses se van a agregar?\n"
     ]
    },
    {
     "name": "stdin",
     "output_type": "stream",
     "text": [
      " 18\n"
     ]
    },
    {
     "name": "stdout",
     "output_type": "stream",
     "text": [
      "get_data\n",
      "La tabla contiene:  13633 filas 11 columnas\n",
      "Introduzca el mes_año:\n"
     ]
    },
    {
     "name": "stdin",
     "output_type": "stream",
     "text": [
      " julio_2022\n"
     ]
    },
    {
     "name": "stdout",
     "output_type": "stream",
     "text": [
      "Agregando:  limpieza_llamadas123_julio_2022.csv\n",
      "agregar_tabla\n",
      "Introduzca el mes_año:\n"
     ]
    },
    {
     "name": "stdin",
     "output_type": "stream",
     "text": [
      " junio_2022\n"
     ]
    },
    {
     "name": "stdout",
     "output_type": "stream",
     "text": [
      "Agregando:  limpieza_llamadas123_junio_2022.csv\n",
      "agregar_tabla\n",
      "Introduzca el mes_año:\n"
     ]
    },
    {
     "name": "stdin",
     "output_type": "stream",
     "text": [
      " mayo_2022\n"
     ]
    },
    {
     "name": "stdout",
     "output_type": "stream",
     "text": [
      "Agregando:  limpieza_llamadas123_mayo_2022.csv\n",
      "agregar_tabla\n",
      "Introduzca el mes_año:\n"
     ]
    },
    {
     "name": "stdin",
     "output_type": "stream",
     "text": [
      " abril_2022\n"
     ]
    },
    {
     "name": "stdout",
     "output_type": "stream",
     "text": [
      "Agregando:  limpieza_llamadas123_abril_2022.csv\n",
      "agregar_tabla\n",
      "Introduzca el mes_año:\n"
     ]
    },
    {
     "name": "stdin",
     "output_type": "stream",
     "text": [
      " marzo_2022\n"
     ]
    },
    {
     "name": "stdout",
     "output_type": "stream",
     "text": [
      "Agregando:  limpieza_llamadas123_marzo_2022.csv\n",
      "agregar_tabla\n",
      "Introduzca el mes_año:\n"
     ]
    },
    {
     "name": "stdin",
     "output_type": "stream",
     "text": [
      " febrero_2022\n"
     ]
    },
    {
     "name": "stdout",
     "output_type": "stream",
     "text": [
      "Agregando:  limpieza_llamadas123_febrero_2022.csv\n",
      "agregar_tabla\n",
      "Introduzca el mes_año:\n"
     ]
    },
    {
     "name": "stdin",
     "output_type": "stream",
     "text": [
      " enero_2022\n"
     ]
    },
    {
     "name": "stdout",
     "output_type": "stream",
     "text": [
      "Agregando:  limpieza_llamadas123_enero_2022.csv\n",
      "agregar_tabla\n",
      "Introduzca el mes_año:\n"
     ]
    },
    {
     "name": "stdin",
     "output_type": "stream",
     "text": [
      " diciembre_2021\n"
     ]
    },
    {
     "name": "stdout",
     "output_type": "stream",
     "text": [
      "Agregando:  limpieza_llamadas123_diciembre_2021.csv\n",
      "agregar_tabla\n",
      "Introduzca el mes_año:\n"
     ]
    },
    {
     "name": "stdin",
     "output_type": "stream",
     "text": [
      " noviembre_2021\n"
     ]
    },
    {
     "name": "stdout",
     "output_type": "stream",
     "text": [
      "Agregando:  limpieza_llamadas123_noviembre_2021.csv\n",
      "agregar_tabla\n",
      "Introduzca el mes_año:\n"
     ]
    },
    {
     "name": "stdin",
     "output_type": "stream",
     "text": [
      " septiembre_2021\n"
     ]
    },
    {
     "name": "stdout",
     "output_type": "stream",
     "text": [
      "Agregando:  limpieza_llamadas123_septiembre_2021.csv\n",
      "agregar_tabla\n",
      "Introduzca el mes_año:\n"
     ]
    },
    {
     "name": "stdin",
     "output_type": "stream",
     "text": [
      " agosto_2021\n"
     ]
    },
    {
     "name": "stdout",
     "output_type": "stream",
     "text": [
      "Agregando:  limpieza_llamadas123_agosto_2021.csv\n",
      "agregar_tabla\n",
      "Introduzca el mes_año:\n"
     ]
    },
    {
     "name": "stdin",
     "output_type": "stream",
     "text": [
      " julio_2021\n"
     ]
    },
    {
     "name": "stdout",
     "output_type": "stream",
     "text": [
      "Agregando:  limpieza_llamadas123_julio_2021.csv\n",
      "agregar_tabla\n",
      "Introduzca el mes_año:\n"
     ]
    },
    {
     "name": "stdin",
     "output_type": "stream",
     "text": [
      " junio_2021\n"
     ]
    },
    {
     "name": "stdout",
     "output_type": "stream",
     "text": [
      "Agregando:  limpieza_llamadas123_junio_2021.csv\n",
      "agregar_tabla\n",
      "Introduzca el mes_año:\n"
     ]
    },
    {
     "name": "stdin",
     "output_type": "stream",
     "text": [
      " mayo_2021\n"
     ]
    },
    {
     "name": "stdout",
     "output_type": "stream",
     "text": [
      "Agregando:  limpieza_llamadas123_mayo_2021.csv\n",
      "agregar_tabla\n",
      "Introduzca el mes_año:\n"
     ]
    },
    {
     "name": "stdin",
     "output_type": "stream",
     "text": [
      " abril_2021\n"
     ]
    },
    {
     "name": "stdout",
     "output_type": "stream",
     "text": [
      "Agregando:  limpieza_llamadas123_abril_2021.csv\n",
      "agregar_tabla\n",
      "Introduzca el mes_año:\n"
     ]
    },
    {
     "name": "stdin",
     "output_type": "stream",
     "text": [
      " marzo_2021\n"
     ]
    },
    {
     "name": "stdout",
     "output_type": "stream",
     "text": [
      "Agregando:  limpieza_llamadas123_marzo_2021.csv\n",
      "agregar_tabla\n",
      "Introduzca el mes_año:\n"
     ]
    },
    {
     "name": "stdin",
     "output_type": "stream",
     "text": [
      " febrero_2021\n"
     ]
    },
    {
     "name": "stdout",
     "output_type": "stream",
     "text": [
      "Agregando:  limpieza_llamadas123_febrero_2021.csv\n",
      "agregar_tabla\n",
      "Introduzca el mes_año:\n"
     ]
    },
    {
     "name": "stdin",
     "output_type": "stream",
     "text": [
      " enero_2021\n"
     ]
    },
    {
     "name": "stdout",
     "output_type": "stream",
     "text": [
      "Agregando:  limpieza_llamadas123_enero_2021.csv\n",
      "agregar_tabla\n",
      "La tabla contiene:  238446 filas 12 columnas\n",
      "DATOS GUARDADOS\n"
     ]
    }
   ],
   "source": [
    "print ('¿Cuantos meses se van a agregar?')\n",
    "meses = input()\n",
    "meses = int(meses)\n",
    "filename = 'limpieza_llamadas123_agosto_2022.csv'\n",
    "datos = get_data(filename)    \n",
    "while meses > 0:\n",
    "    meses -= 1\n",
    "    print('Introduzca el mes_año:')\n",
    "    mes = input()\n",
    "    filename_2 = 'limpieza_llamadas123_' + mes + '.csv'\n",
    "    print('Agregando: ', filename_2)\n",
    "    datos = agregar_tabla(datos, filename_2)\n",
    "print('La tabla contiene: ', datos.shape[0], 'filas', datos.shape[1], 'columnas')\n",
    "save_data(datos)"
   ]
  },
  {
   "cell_type": "code",
   "execution_count": null,
   "id": "c0b9708a-7f46-4223-aae8-b26ffb1f7297",
   "metadata": {},
   "outputs": [],
   "source": []
  }
 ],
 "metadata": {
  "environment": {
   "kernel": "python3",
   "name": "common-cpu.m97",
   "type": "gcloud",
   "uri": "gcr.io/deeplearning-platform-release/base-cpu:m97"
  },
  "kernelspec": {
   "display_name": "Python 3",
   "language": "python",
   "name": "python3"
  },
  "language_info": {
   "codemirror_mode": {
    "name": "ipython",
    "version": 3
   },
   "file_extension": ".py",
   "mimetype": "text/x-python",
   "name": "python",
   "nbconvert_exporter": "python",
   "pygments_lexer": "ipython3",
   "version": "3.7.12"
  }
 },
 "nbformat": 4,
 "nbformat_minor": 5
}
